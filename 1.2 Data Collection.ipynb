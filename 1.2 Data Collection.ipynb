{
 "cells": [
  {
   "cell_type": "markdown",
   "id": "a00378e1-e361-47d8-a2b4-927973b56835",
   "metadata": {},
   "source": [
    "<h1>Data Collection</h1>"
   ]
  },
  {
   "cell_type": "code",
   "execution_count": 1,
   "id": "f4057110-a4b2-4f69-9e8c-ed2da188d6b5",
   "metadata": {},
   "outputs": [
    {
     "name": "stderr",
     "output_type": "stream",
     "text": [
      "24/12/12 21:08:19 WARN Utils: Your hostname, MSI. resolves to a loopback address: 127.0.1.1; using 10.255.255.254 instead (on interface lo)\n",
      "24/12/12 21:08:19 WARN Utils: Set SPARK_LOCAL_IP if you need to bind to another address\n",
      "Setting default log level to \"WARN\".\n",
      "To adjust logging level use sc.setLogLevel(newLevel). For SparkR, use setLogLevel(newLevel).\n",
      "24/12/12 21:08:19 WARN NativeCodeLoader: Unable to load native-hadoop library for your platform... using builtin-java classes where applicable\n",
      "24/12/12 21:08:21 WARN Utils: Service 'SparkUI' could not bind on port 4040. Attempting port 4041.\n"
     ]
    },
    {
     "name": "stdout",
     "output_type": "stream",
     "text": [
      "Kafka producer initialized successfully.\n",
      "Data sent to Kafka topic 'rawdata' successfully.\n"
     ]
    }
   ],
   "source": [
    "from pyspark.sql.functions import col, regexp_replace\n",
    "from classes.LexiconCreator import lexiconRawDataCollector\n",
    "from classes.SparkBuilder import sparkBuilder\n",
    "from classes.KafkaUtility import kafkaUtility\n",
    "\n",
    "#Classes\n",
    "sB = sparkBuilder()\n",
    "lexicon = lexiconRawDataCollector()\n",
    "kafkaUti = kafkaUtility()\n",
    "\n",
    "#Spark Builder\n",
    "spark = sB.sparkSessionBuilder(\"Lexicon Annotater\")\n",
    "\n",
    "#Data Scrapping (see classes for function details) (make a kafka producer for articles)\n",
    "category = \"Bahasa Melayu\"\n",
    "articles = lexicon.getCategoryMembers(category, limit=1)\n",
    "\n",
    "# Initialize Kafka Producer (see classes folder for more details)\n",
    "kafkaBroker = 'localhost:9092'\n",
    "topic = 'rawdata'\n",
    "kafkaUti.inititateDataCollectionKafkaProducer(kafkaBroker, topic, articles)\n",
    "\n",
    "\n",
    "# Stop Spark\n",
    "sB.sparkStopSession(spark)\n"
   ]
  },
  {
   "cell_type": "code",
   "execution_count": null,
   "id": "867e8d01-c565-42d5-8c61-5f7105b705f6",
   "metadata": {},
   "outputs": [],
   "source": []
  }
 ],
 "metadata": {
  "kernelspec": {
   "display_name": "ass-venv",
   "language": "python",
   "name": "ass-venv"
  },
  "language_info": {
   "codemirror_mode": {
    "name": "ipython",
    "version": 3
   },
   "file_extension": ".py",
   "mimetype": "text/x-python",
   "name": "python",
   "nbconvert_exporter": "python",
   "pygments_lexer": "ipython3",
   "version": "3.10.12"
  }
 },
 "nbformat": 4,
 "nbformat_minor": 5
}
