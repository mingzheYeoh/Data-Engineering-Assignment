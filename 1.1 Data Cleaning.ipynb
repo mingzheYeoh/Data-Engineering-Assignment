{
 "cells": [
  {
   "cell_type": "markdown",
   "id": "d38639ec-563f-4a30-8f34-015bdc719ce4",
   "metadata": {},
   "source": [
    "<h1>1.1 Data Cleaning</h1>"
   ]
  },
  {
   "cell_type": "code",
   "execution_count": null,
   "id": "5b14190a-2d86-4d9b-b124-2de9eb508e9c",
   "metadata": {
    "scrolled": true
   },
   "outputs": [
    {
     "name": "stderr",
     "output_type": "stream",
     "text": [
      "24/12/12 21:07:28 WARN Utils: Your hostname, MSI. resolves to a loopback address: 127.0.1.1; using 10.255.255.254 instead (on interface lo)\n",
      "24/12/12 21:07:28 WARN Utils: Set SPARK_LOCAL_IP if you need to bind to another address\n",
      "Setting default log level to \"WARN\".\n",
      "To adjust logging level use sc.setLogLevel(newLevel). For SparkR, use setLogLevel(newLevel).\n",
      "24/12/12 21:07:29 WARN NativeCodeLoader: Unable to load native-hadoop library for your platform... using builtin-java classes where applicable\n"
     ]
    },
    {
     "name": "stdout",
     "output_type": "stream",
     "text": [
      "Kafka consumer initialized successfully.\n",
      "Listening to Kafka topic 'rawdata'...\n",
      "Received message: ['30 Tahun Perancangan Bahasa Malaysia']\n"
     ]
    },
    {
     "name": "stderr",
     "output_type": "stream",
     "text": [
      "                                                                                \r"
     ]
    },
    {
     "name": "stdout",
     "output_type": "stream",
     "text": [
      "Cleaned words with frequencies saved to storageCleanedCSV/cleaned_words_12.12.2024_21.08.30_LWM.csv\n"
     ]
    }
   ],
   "source": [
    "from classes.LexiconCreator import lexiconRawDataCollector\n",
    "from classes.SparkBuilder import sparkBuilder\n",
    "from classes.KafkaUtility import kafkaUtility\n",
    "\n",
    "#Classes\n",
    "sB = sparkBuilder()\n",
    "lexicon = lexiconRawDataCollector()\n",
    "kafkaUti = kafkaUtility()\n",
    "\n",
    "#Spark Builder\n",
    "spark = sB.sparkSessionBuilder(\"Lexicon Cleaner\")\n",
    "\n",
    "# Initialize Kafka Consumer (see classes folder for more details)\n",
    "#Broker\n",
    "kafkaBroker = 'localhost:9092'\n",
    "#The topic\n",
    "topic = 'rawdata'\n",
    "#The data engineer/team mates/maintenanceteam name/groupname\n",
    "refresherName = 'LWM'\n",
    "\n",
    "kafkaUti.initiateDataCleaningConsumer(kafkaBroker, topic, refresherName, lexicon, spark)\n",
    "\n",
    "\n",
    "sB.sparkStopSession(spark)"
   ]
  },
  {
   "cell_type": "code",
   "execution_count": null,
   "id": "f923854f-2317-4b23-9af6-f84b4c5d1394",
   "metadata": {},
   "outputs": [],
   "source": []
  }
 ],
 "metadata": {
  "kernelspec": {
   "display_name": "de-venv",
   "language": "python",
   "name": "de-venv"
  },
  "language_info": {
   "codemirror_mode": {
    "name": "ipython",
    "version": 3
   },
   "file_extension": ".py",
   "mimetype": "text/x-python",
   "name": "python",
   "nbconvert_exporter": "python",
   "pygments_lexer": "ipython3",
   "version": "3.10.12"
  }
 },
 "nbformat": 4,
 "nbformat_minor": 5
}
