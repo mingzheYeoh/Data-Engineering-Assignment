{
 "cells": [
  {
   "cell_type": "code",
   "execution_count": 1,
   "id": "39ac2178-d2e0-4452-bffa-1cb2bf63290a",
   "metadata": {},
   "outputs": [
    {
     "ename": "ModuleNotFoundError",
     "evalue": "No module named 'networkx'",
     "output_type": "error",
     "traceback": [
      "\u001b[0;31m---------------------------------------------------------------------------\u001b[0m",
      "\u001b[0;31mModuleNotFoundError\u001b[0m                       Traceback (most recent call last)",
      "Cell \u001b[0;32mIn[1], line 7\u001b[0m\n\u001b[1;32m      5\u001b[0m \u001b[38;5;28;01mimport\u001b[39;00m \u001b[38;5;21;01mnumpy\u001b[39;00m \u001b[38;5;28;01mas\u001b[39;00m \u001b[38;5;21;01mnp\u001b[39;00m\n\u001b[1;32m      6\u001b[0m \u001b[38;5;28;01mfrom\u001b[39;00m \u001b[38;5;21;01msklearn\u001b[39;00m\u001b[38;5;21;01m.\u001b[39;00m\u001b[38;5;21;01mcluster\u001b[39;00m \u001b[38;5;28;01mimport\u001b[39;00m KMeans\n\u001b[0;32m----> 7\u001b[0m \u001b[38;5;28;01mimport\u001b[39;00m \u001b[38;5;21;01mnetworkx\u001b[39;00m \u001b[38;5;28;01mas\u001b[39;00m \u001b[38;5;21;01mnx\u001b[39;00m\n\u001b[1;32m      8\u001b[0m \u001b[38;5;28;01mfrom\u001b[39;00m \u001b[38;5;21;01mpyvis\u001b[39;00m\u001b[38;5;21;01m.\u001b[39;00m\u001b[38;5;21;01mnetwork\u001b[39;00m \u001b[38;5;28;01mimport\u001b[39;00m Network\n\u001b[1;32m     10\u001b[0m \u001b[38;5;66;03m# Connect to Neo4j database (Replace with your connection details)\u001b[39;00m\n",
      "\u001b[0;31mModuleNotFoundError\u001b[0m: No module named 'networkx'"
     ]
    }
   ],
   "source": [
    "# Author: Lai Yoke Yau\n",
    "# Created At: 13/12/2024\n",
    "\n",
    "from py2neo import Graph\n",
    "import numpy as np\n",
    "from sklearn.cluster import KMeans\n",
    "import networkx as nx\n",
    "from pyvis.network import Network\n",
    "\n",
    "# Connect to Neo4j database (Replace with your connection details)\n",
    "graph = Graph(\"neo4j+s://3a258465.databases.neo4j.io\", auth=(\"neo4j\", \"qqFwDFq89rQO0lsvVIpOZGKU6O0L0bqQ5HruDuKOQ1g\"))"
   ]
  },
  {
   "cell_type": "code",
   "execution_count": 2,
   "id": "c5c9d3d1-51e3-4e3b-9c0e-b2006eb975a7",
   "metadata": {},
   "outputs": [
    {
     "name": "stdin",
     "output_type": "stream",
     "text": [
      "Enter the relationship to query (synonym/antonym/hypernym/meronym):  meronym\n"
     ]
    },
    {
     "name": "stdout",
     "output_type": "stream",
     "text": [
      "Word: sistem, Related Words (meronym): ['komponen']\n",
      "Word: huruf, Related Words (meronym): ['aksara']\n",
      "Word: abode, Related Words (meronym): ['rumah', 'kediaman']\n",
      "Word: rumah, Related Words (meronym): ['bilik']\n",
      "Word: tempat, Related Words (meronym): ['budaya', 'bahasa']\n"
     ]
    }
   ],
   "source": [
    "# Prompt the user to choose between synonyms or antonyms\n",
    "relationship = input(\"Enter the relationship to query (synonym/antonym/hypernym/meronym): \").strip().lower()\n",
    "\n",
    "# Validate input\n",
    "if relationship not in [\"synonym\", \"antonym\", \"hypernym\", \"meronym\"]:\n",
    "    print(\"Invalid input. Please enter 'synonym' or 'antonym' or 'hypernym' or 'meronym'.\")\n",
    "else:\n",
    "    # Construct the query based on user input\n",
    "    query = f\"\"\"\n",
    "    MATCH (w:Word)-[:{relationship.upper()}]->(related:Word)\n",
    "    RETURN w.name AS word, COLLECT(related.name) AS related_words\n",
    "    LIMIT 5\n",
    "    \"\"\"\n",
    "    # Execute the query\n",
    "    result = graph.run(query)\n",
    "    \n",
    "    # Print the results\n",
    "    for record in result:\n",
    "        print(f\"Word: {record['word']}, Related Words ({relationship}): {record['related_words']}\")\n"
   ]
  },
  {
   "cell_type": "code",
   "execution_count": 3,
   "id": "e92ed029-ca2c-4845-9431-e317dc524206",
   "metadata": {},
   "outputs": [
    {
     "name": "stdout",
     "output_type": "stream",
     "text": [
      "Relationship type: Meronym\n",
      "Number of nodes: 1467\n",
      "Number of edges: 1921\n"
     ]
    }
   ],
   "source": [
    "# Create an empty NetworkX graph\n",
    "G = nx.Graph()\n",
    "\n",
    "# Query to get nodes and their relationships\n",
    "query = f\"\"\"\n",
    "MATCH (w:Word)-[:{relationship.upper()}]->(related:Word)\n",
    "RETURN w.name AS word, related.name AS related_word\n",
    "\"\"\"\n",
    "result = graph.run(query)\n",
    "    \n",
    "# Add nodes and edges to the NetworkX graph\n",
    "for record in result:\n",
    "    word = record[\"word\"]\n",
    "    related_word = record[\"related_word\"]\n",
    "    G.add_edge(word, related_word)\n",
    "    \n",
    "# Output some basic graph stats\n",
    "print(f\"Relationship type: {relationship.capitalize()}\")\n",
    "print(f\"Number of nodes: {len(G.nodes())}\")\n",
    "print(f\"Number of edges: {len(G.edges())}\")\n"
   ]
  },
  {
   "cell_type": "code",
   "execution_count": 4,
   "id": "65d5557f-25fb-443a-b35b-1d92e06b4df8",
   "metadata": {},
   "outputs": [
    {
     "name": "stdout",
     "output_type": "stream",
     "text": [
      "Node: sistem, Cluster: 0\n",
      "Node: komponen, Cluster: 2\n",
      "Node: huruf, Cluster: 2\n",
      "Node: aksara, Cluster: 0\n",
      "Node: abode, Cluster: 0\n"
     ]
    }
   ],
   "source": [
    "# Create node embeddings using node degrees\n",
    "node_embeddings = np.array([G.degree(node) for node in G.nodes()])\n",
    "\n",
    "# Apply K-means clustering\n",
    "kmeans = KMeans(n_clusters=3)\n",
    "labels = kmeans.fit_predict(node_embeddings.reshape(-1, 1))  # Reshaping for K-means\n",
    "\n",
    "# Show only the first 5 nodes\n",
    "for node, label in zip(list(G.nodes())[:5], labels[:5]):  # Limiting to the first 5 nodes\n",
    "    print(f\"Node: {node}, Cluster: {label}\")\n"
   ]
  },
  {
   "cell_type": "code",
   "execution_count": 5,
   "id": "6f3c3fef-b4a6-4590-8712-e3c9f9806fa8",
   "metadata": {},
   "outputs": [],
   "source": [
    "# Save the NetworkX graph to a file\n",
    "nx.write_gml(G, \"graph.gml\")\n",
    "\n",
    "# Load a graph from a file\n",
    "G_loaded = nx.read_gml(\"graph.gml\")\n"
   ]
  },
  {
   "cell_type": "code",
   "execution_count": 6,
   "id": "a6fa0bec-b5f4-44f1-a115-adc227f24175",
   "metadata": {},
   "outputs": [
    {
     "name": "stdout",
     "output_type": "stream",
     "text": [
      "Warning: When  cdn_resources is 'local' jupyter notebook has issues displaying graphics on chrome/safari. Use cdn_resources='in_line' or cdn_resources='remote' if you have issues viewing graphics in a notebook.\n",
      "graph.html\n"
     ]
    },
    {
     "data": {
      "text/html": [
       "\n",
       "        <iframe\n",
       "            width=\"100%\"\n",
       "            height=\"600px\"\n",
       "            src=\"graph.html\"\n",
       "            frameborder=\"0\"\n",
       "            allowfullscreen\n",
       "            \n",
       "        ></iframe>\n",
       "        "
      ],
      "text/plain": [
       "<IPython.lib.display.IFrame at 0x7faff0b273a0>"
      ]
     },
     "execution_count": 6,
     "metadata": {},
     "output_type": "execute_result"
    }
   ],
   "source": [
    "# Create a Pyvis network object\n",
    "net = Network(notebook=True)\n",
    "\n",
    "# Load the graph into Pyvis\n",
    "net.from_nx(G_loaded)\n",
    "\n",
    "# Show the graph (interactive)\n",
    "net.show(\"graph.html\")\n"
   ]
  }
 ],
 "metadata": {
  "kernelspec": {
   "display_name": "ass-venv",
   "language": "python",
   "name": "ass-venv"
  },
  "language_info": {
   "codemirror_mode": {
    "name": "ipython",
    "version": 3
   },
   "file_extension": ".py",
   "mimetype": "text/x-python",
   "name": "python",
   "nbconvert_exporter": "python",
   "pygments_lexer": "ipython3",
   "version": "3.10.12"
  }
 },
 "nbformat": 4,
 "nbformat_minor": 5
}
