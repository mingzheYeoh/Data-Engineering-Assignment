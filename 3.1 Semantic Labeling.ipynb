{
 "cells": [
  {
   "cell_type": "markdown",
   "id": "50d94f4e-af29-4d81-ad86-be5b0a6e09a0",
   "metadata": {},
   "source": [
    "<h1>Semantic Labeling</h1>"
   ]
  },
  {
   "cell_type": "markdown",
   "id": "a8692f2f-1ae8-4489-acac-374024e0e625",
   "metadata": {},
   "source": [
    "<p>Semantic labeling is done through manual annotation with the help of four team members. We have annotate manually the <b>synonyms, antonyms, hypernyms and meronyms</b></p>"
   ]
  },
  {
   "cell_type": "markdown",
   "id": "79fb43cd-45eb-488a-9ecf-b4ccf71dc7a2",
   "metadata": {},
   "source": [
    "<p>We then further load our annotation of word in the csv file into MongoDB, look <b>3.2 Load Into Database</b> for more information.</p>"
   ]
  }
 ],
 "metadata": {
  "kernelspec": {
   "display_name": "ass-venv",
   "language": "python",
   "name": "ass-venv"
  },
  "language_info": {
   "codemirror_mode": {
    "name": "ipython",
    "version": 3
   },
   "file_extension": ".py",
   "mimetype": "text/x-python",
   "name": "python",
   "nbconvert_exporter": "python",
   "pygments_lexer": "ipython3",
   "version": "3.10.12"
  }
 },
 "nbformat": 4,
 "nbformat_minor": 5
}
