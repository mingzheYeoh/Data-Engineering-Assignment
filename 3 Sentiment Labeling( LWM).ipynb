{
 "cells": [
  {
   "cell_type": "markdown",
   "id": "c14bf2a4-e3fa-4841-8677-103fadcdc9ec",
   "metadata": {},
   "source": [
    "<h1>The sentiment labeling is only run one time only. As annual correction will be done </h1>"
   ]
  },
  {
   "cell_type": "code",
   "execution_count": 1,
   "id": "ff1f98d2-7f28-402b-ba0f-b012f4dfd956",
   "metadata": {
    "scrolled": true
   },
   "outputs": [
    {
     "ename": "ModuleNotFoundError",
     "evalue": "No module named 'transformers'",
     "output_type": "error",
     "traceback": [
      "\u001b[0;31m---------------------------------------------------------------------------\u001b[0m",
      "\u001b[0;31mModuleNotFoundError\u001b[0m                       Traceback (most recent call last)",
      "Cell \u001b[0;32mIn[1], line 2\u001b[0m\n\u001b[1;32m      1\u001b[0m \u001b[38;5;28;01mfrom\u001b[39;00m \u001b[38;5;21;01mclasses\u001b[39;00m\u001b[38;5;21;01m.\u001b[39;00m\u001b[38;5;21;01mSparkBuilder\u001b[39;00m \u001b[38;5;28;01mimport\u001b[39;00m sparkBuilder\n\u001b[0;32m----> 2\u001b[0m \u001b[38;5;28;01mfrom\u001b[39;00m \u001b[38;5;21;01mclasses\u001b[39;00m\u001b[38;5;21;01m.\u001b[39;00m\u001b[38;5;21;01mLexiconAnnotater\u001b[39;00m \u001b[38;5;28;01mimport\u001b[39;00m lexiconAnnotater \n\u001b[1;32m      3\u001b[0m \u001b[38;5;28;01mfrom\u001b[39;00m \u001b[38;5;21;01mtransformers\u001b[39;00m \u001b[38;5;28;01mimport\u001b[39;00m pipeline\n\u001b[1;32m      6\u001b[0m \u001b[38;5;66;03m#Classes\u001b[39;00m\n",
      "File \u001b[0;32m~/de-ass/classes/LexiconAnnotater.py:1\u001b[0m\n\u001b[0;32m----> 1\u001b[0m \u001b[38;5;28;01mfrom\u001b[39;00m \u001b[38;5;21;01mtransformers\u001b[39;00m \u001b[38;5;28;01mimport\u001b[39;00m pipeline\n\u001b[1;32m      2\u001b[0m \u001b[38;5;28;01mfrom\u001b[39;00m \u001b[38;5;21;01mpyspark\u001b[39;00m\u001b[38;5;21;01m.\u001b[39;00m\u001b[38;5;21;01msql\u001b[39;00m\u001b[38;5;21;01m.\u001b[39;00m\u001b[38;5;21;01mfunctions\u001b[39;00m \u001b[38;5;28;01mimport\u001b[39;00m col, udf\n\u001b[1;32m      3\u001b[0m \u001b[38;5;28;01mfrom\u001b[39;00m \u001b[38;5;21;01mpyspark\u001b[39;00m\u001b[38;5;21;01m.\u001b[39;00m\u001b[38;5;21;01msql\u001b[39;00m\u001b[38;5;21;01m.\u001b[39;00m\u001b[38;5;21;01mtypes\u001b[39;00m \u001b[38;5;28;01mimport\u001b[39;00m StringType, FloatType\n",
      "\u001b[0;31mModuleNotFoundError\u001b[0m: No module named 'transformers'"
     ]
    }
   ],
   "source": [
    "from classes.SparkBuilder import sparkBuilder\n",
    "from classes.LexiconAnnotater import lexiconAnnotater \n",
    "from transformers import pipeline\n",
    "\n",
    "\n",
    "#Classes\n",
    "sB = sparkBuilder()\n",
    "annotater = lexiconAnnotater()\n",
    "#Spark Builder\n",
    "spark = sB.sparkSessionBuilder(\"Lexicon Annotater\")\n",
    "\n",
    "#Import the CSV \n",
    "fileName = \"storageContinuousUpdateCSV\" #\"storageContinuousUpdateCSV\" or \"storageCleanedCSV\"\n",
    "csvDateFileWanted = \"12.12.2024_21.15.25\"\n",
    "refresherName = \"LWM\"\n",
    "\n",
    "annotater.sentimentAnnotation(spark, fileName, csvDateFileWanted, refresherName) #tengok classes for more info. :D\n",
    "\n",
    "#Stop Spark\n",
    "sB.sparkStopSession(spark)"
   ]
  },
  {
   "cell_type": "markdown",
   "id": "3959d2c9-3503-4d88-93da-9b1cc118a57e",
   "metadata": {},
   "source": [
    "<h2>Lexicon Enrichment of Semantics Relations continued at 3.1 Semantics Labeling</h2>"
   ]
  }
 ],
 "metadata": {
  "kernelspec": {
   "display_name": "ass-venv",
   "language": "python",
   "name": "ass-venv"
  },
  "language_info": {
   "codemirror_mode": {
    "name": "ipython",
    "version": 3
   },
   "file_extension": ".py",
   "mimetype": "text/x-python",
   "name": "python",
   "nbconvert_exporter": "python",
   "pygments_lexer": "ipython3",
   "version": "3.10.12"
  }
 },
 "nbformat": 4,
 "nbformat_minor": 5
}
