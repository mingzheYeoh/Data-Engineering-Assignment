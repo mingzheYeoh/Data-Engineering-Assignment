{
 "cells": [
  {
   "cell_type": "code",
   "execution_count": 1,
   "id": "3fc019e2-8c53-4436-8d64-06c1dc3cdd50",
   "metadata": {},
   "outputs": [
    {
     "name": "stderr",
     "output_type": "stream",
     "text": [
      "24/12/18 00:58:55 WARN Utils: Your hostname, DESKTOP-444CUR0. resolves to a loopback address: 127.0.1.1; using 10.255.255.254 instead (on interface lo)\n",
      "24/12/18 00:58:55 WARN Utils: Set SPARK_LOCAL_IP if you need to bind to another address\n",
      "Setting default log level to \"WARN\".\n",
      "To adjust logging level use sc.setLogLevel(newLevel). For SparkR, use setLogLevel(newLevel).\n",
      "24/12/18 00:58:56 WARN NativeCodeLoader: Unable to load native-hadoop library for your platform... using builtin-java classes where applicable\n"
     ]
    },
    {
     "name": "stdout",
     "output_type": "stream",
     "text": [
      "Connected to Neo4j successfully.\n"
     ]
    },
    {
     "name": "stderr",
     "output_type": "stream",
     "text": [
      "                                                                                \r"
     ]
    },
    {
     "name": "stdout",
     "output_type": "stream",
     "text": [
      "+----------+-----+\n",
      "|wordLength|count|\n",
      "+----------+-----+\n",
      "|         2|   62|\n",
      "|         3|  120|\n",
      "|         4|  327|\n",
      "|         5|  583|\n",
      "|         6|  473|\n",
      "|         7|  492|\n",
      "|         8|  417|\n",
      "|         9|  371|\n",
      "|        10|  330|\n",
      "|        11|  186|\n",
      "|        12|  147|\n",
      "|        13|  103|\n",
      "|        14|   59|\n",
      "|        15|   36|\n",
      "|        16|   19|\n",
      "|        17|   13|\n",
      "|        18|   11|\n",
      "|        19|    9|\n",
      "|        20|    3|\n",
      "+----------+-----+\n",
      "\n"
     ]
    },
    {
     "name": "stderr",
     "output_type": "stream",
     "text": [
      "                                                                                \r"
     ]
    },
    {
     "name": "stdout",
     "output_type": "stream",
     "text": [
      "Average Word Length: 7.55995745812284\n",
      "Median Word Length: 7\n",
      "Connection to Neo4j closed.\n"
     ]
    }
   ],
   "source": [
    "from pyspark.sql import SparkSession\n",
    "from classes.wordLengthAnalysis import WordLengthAnalyzer\n",
    "\n",
    "# Initialize SparkSession\n",
    "spark = SparkSession.builder.appName(\"WordLengthAnalysis\").getOrCreate()\n",
    "\n",
    "# Neo4j connection details\n",
    "uri = \"neo4j+s://0c8b5cd4.databases.neo4j.io\"\n",
    "username = \"neo4j\"\n",
    "password = \"T9nR4xNpZQcV9V6A-DIJcgH7QQJyEyleavY-3CXsuiw\"\n",
    "\n",
    "# Initialize the WordLengthAnalyzer class with Neo4j connection\n",
    "analyzer = WordLengthAnalyzer(uri=uri, username=username, password=password)\n",
    "\n",
    "try:\n",
    "    \n",
    "    # Query word lengths from Neo4j\n",
    "    query_result = analyzer.wordLength_query()\n",
    "\n",
    "    # Clean data: Ensure wordLength and count\n",
    "    data = [(row['wordLength'], row['count']) for row in query_result]\n",
    "    \n",
    "    # Convert the cleaned data to a Spark DataFrame\n",
    "    df = spark.createDataFrame(data, [\"wordLength\", \"count\"])\n",
    "\n",
    "    # Print the DF\n",
    "    df.show()\n",
    "    \n",
    "    # Assign the DataFrame to the analyzer class\n",
    "    analyzer.df = df\n",
    "    \n",
    "    # Perform analysis\n",
    "    analyzer.analyze()\n",
    "\n",
    "finally:\n",
    "    # Close Neo4j connection\n",
    "    analyzer.close_connection()\n"
   ]
  },
  {
   "cell_type": "code",
   "execution_count": null,
   "id": "23814962-1311-4c95-96f7-0ee3cc0987ef",
   "metadata": {},
   "outputs": [],
   "source": []
  }
 ],
 "metadata": {
  "kernelspec": {
   "display_name": "ass-venv",
   "language": "python",
   "name": "ass-venv"
  },
  "language_info": {
   "codemirror_mode": {
    "name": "ipython",
    "version": 3
   },
   "file_extension": ".py",
   "mimetype": "text/x-python",
   "name": "python",
   "nbconvert_exporter": "python",
   "pygments_lexer": "ipython3",
   "version": "3.10.12"
  }
 },
 "nbformat": 4,
 "nbformat_minor": 5
}
