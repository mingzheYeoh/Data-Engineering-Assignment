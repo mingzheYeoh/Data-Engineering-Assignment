{
 "cells": [
  {
   "cell_type": "code",
   "execution_count": 1,
   "id": "9c63cfa1-2ed3-44dc-bfa5-08682360a41b",
   "metadata": {},
   "outputs": [],
   "source": [
    "from classes.Neo4jRedisLexiconManager import Neo4jRedisLexiconManager\n",
    "from classes.LexiconCoverage import LexiconSizeCoverageCalculator"
   ]
  },
  {
   "cell_type": "code",
   "execution_count": 2,
   "id": "89c91d65-ffaa-42fd-b971-6a2316033c63",
   "metadata": {},
   "outputs": [],
   "source": [
    "NEO4J_URI=\"neo4j+s://0c8b5cd4.databases.neo4j.io\"\n",
    "NEO4J_USERNAME=\"neo4j\"\n",
    "NEO4J_PASSWORD=\"T9nR4xNpZQcV9V6A-DIJcgH7QQJyEyleavY-3CXsuiw\"\n",
    "\n",
    "manager = Neo4jRedisLexiconManager(NEO4J_URI, NEO4J_USERNAME, NEO4J_PASSWORD)\n",
    "calculator = LexiconSizeCoverageCalculator(manager)"
   ]
  },
  {
   "cell_type": "code",
   "execution_count": null,
   "id": "ff139f35-0d30-41c0-a79a-a11ee21148e2",
   "metadata": {},
   "outputs": [],
   "source": [
    "manager.sync_aura_to_redis()"
   ]
  },
  {
   "cell_type": "markdown",
   "id": "3a167642-81f8-43ff-8142-124aa561e1f2",
   "metadata": {},
   "source": [
    "**Lexicon Size**"
   ]
  },
  {
   "cell_type": "code",
   "execution_count": 3,
   "id": "ccf22b7a-a884-411b-931c-18d1e834c841",
   "metadata": {},
   "outputs": [
    {
     "name": "stdout",
     "output_type": "stream",
     "text": [
      "Total words in Redis: 3761\n",
      "Total words in AuraDB: 3761\n"
     ]
    }
   ],
   "source": [
    "calculator.calculate_lexicon_size()"
   ]
  },
  {
   "cell_type": "code",
   "execution_count": 4,
   "id": "442b325c-3c2d-47c5-b6ab-120e55138b91",
   "metadata": {},
   "outputs": [],
   "source": [
    "words_to_check = [\n",
    "    \"gembira\", \"sedih\", \"marah\", \"tenang\", \"ceria\",\n",
    "    \"bijak\", \"bodoh\", \"besar\", \"kecil\", \"cepat\",\n",
    "    \"lambat\", \"tinggi\", \"rendah\", \"indah\", \"buruk\",\n",
    "    \"kaya\", \"miskin\", \"kuat\", \"lemah\", \"panjang\",\n",
    "    \"pendek\", \"baru\", \"lama\", \"hangat\", \"sejuk\"\n",
    "]"
   ]
  },
  {
   "cell_type": "code",
   "execution_count": 5,
   "id": "57e57093-68fc-4fc5-86a4-061dd2c29718",
   "metadata": {},
   "outputs": [
    {
     "name": "stdout",
     "output_type": "stream",
     "text": [
      "Word 'sedih' not found in either Redis or AuraDB.\n",
      "Word 'ceria' not found in either Redis or AuraDB.\n",
      "Word 'bijak' not found in either Redis or AuraDB.\n",
      "Word 'kaya' not found in either Redis or AuraDB.\n",
      "Word 'miskin' not found in either Redis or AuraDB.\n",
      "Word 'hangat' not found in either Redis or AuraDB.\n",
      "Coverage Percentage: 76.00%\n"
     ]
    },
    {
     "data": {
      "text/plain": [
       "76.0"
      ]
     },
     "execution_count": 5,
     "metadata": {},
     "output_type": "execute_result"
    }
   ],
   "source": [
    "calculator.calculate_word_coverage(words_to_check)"
   ]
  },
  {
   "cell_type": "code",
   "execution_count": 6,
   "id": "38e52fc9-0379-49f7-8943-d6a27384da9d",
   "metadata": {},
   "outputs": [],
   "source": [
    "manager.close()"
   ]
  },
  {
   "cell_type": "code",
   "execution_count": 7,
   "id": "46b40bbd-4775-4128-bd77-46918945bdcf",
   "metadata": {},
   "outputs": [
    {
     "name": "stdout",
     "output_type": "stream",
     "text": [
      "Deleting keys from Redis...\n"
     ]
    },
    {
     "name": "stderr",
     "output_type": "stream",
     "text": [
      "Deleting: 100%|\u001b[31m█████████████████████████\u001b[0m| 3761/3761 [00:00<00:00, 11058.52key/s]\u001b[0m"
     ]
    },
    {
     "name": "stdout",
     "output_type": "stream",
     "text": [
      "\u001b[32mDeleted 3761 keys from Redis.\u001b[0m\n"
     ]
    },
    {
     "name": "stderr",
     "output_type": "stream",
     "text": [
      "\n"
     ]
    }
   ],
   "source": [
    "manager.delete_all_key_from_redis()"
   ]
  },
  {
   "cell_type": "code",
   "execution_count": null,
   "id": "7e69e21b-6b45-4540-81bd-b9d41b691662",
   "metadata": {},
   "outputs": [],
   "source": []
  }
 ],
 "metadata": {
  "kernelspec": {
   "display_name": "ass-venv",
   "language": "python",
   "name": "ass-venv"
  },
  "language_info": {
   "codemirror_mode": {
    "name": "ipython",
    "version": 3
   },
   "file_extension": ".py",
   "mimetype": "text/x-python",
   "name": "python",
   "nbconvert_exporter": "python",
   "pygments_lexer": "ipython3",
   "version": "3.10.12"
  }
 },
 "nbformat": 4,
 "nbformat_minor": 5
}
