{
 "cells": [
  {
   "cell_type": "code",
   "execution_count": 1,
   "id": "ff977812-3901-4555-94ce-3335d6d0c1b4",
   "metadata": {},
   "outputs": [],
   "source": [
    "from classes.Neo4jRedisLexiconManager import Neo4jRedisLexiconManager, PromptWindow\n",
    "from classes.TimingComparison import RetrievalTimeAnalyzer"
   ]
  },
  {
   "cell_type": "markdown",
   "id": "61f4d384-05c7-40e3-bf7e-452763b17fb0",
   "metadata": {},
   "source": [
    "**Initialize Neo4j Manager**"
   ]
  },
  {
   "cell_type": "code",
   "execution_count": 2,
   "id": "c4b57619-a8ac-4ee0-85b7-944b5289f578",
   "metadata": {},
   "outputs": [],
   "source": [
    "NEO4J_URI=\"neo4j+s://0c8b5cd4.databases.neo4j.io\"\n",
    "NEO4J_USERNAME=\"neo4j\"\n",
    "NEO4J_PASSWORD=\"T9nR4xNpZQcV9V6A-DIJcgH7QQJyEyleavY-3CXsuiw\"\n",
    "\n",
    "manager = Neo4jRedisLexiconManager(NEO4J_URI,NEO4J_USERNAME,NEO4J_PASSWORD)\n",
    "prompt_window = PromptWindow(manager)\n",
    "analyzer = RetrievalTimeAnalyzer(manager)"
   ]
  },
  {
   "cell_type": "markdown",
   "id": "c66616d0-3e26-4c2f-8f22-f4f4c6a7b0d0",
   "metadata": {},
   "source": [
    "**Synchronizing Aura DB data to Redis**"
   ]
  },
  {
   "cell_type": "code",
   "execution_count": 3,
   "id": "92847ac9-6f8d-4be1-80c2-bc15803f3280",
   "metadata": {},
   "outputs": [
    {
     "name": "stdout",
     "output_type": "stream",
     "text": [
      "Synchronizing Aura DB data to Redis...\n"
     ]
    },
    {
     "name": "stderr",
     "output_type": "stream",
     "text": [
      "Syncing: 100%|\u001b[34m████████████████████████\u001b[0m| 3761/3761 [00:00<00:00, 5825.47record/s]\u001b[0m"
     ]
    },
    {
     "name": "stdout",
     "output_type": "stream",
     "text": [
      "\u001b[32mSynchronization complete. Total records synced: 3761\u001b[0m\n"
     ]
    },
    {
     "name": "stderr",
     "output_type": "stream",
     "text": [
      "\n"
     ]
    }
   ],
   "source": [
    "manager.sync_aura_to_redis()"
   ]
  },
  {
   "cell_type": "markdown",
   "id": "20d29980-f24e-4c9b-9c1b-d9beac15e46c",
   "metadata": {},
   "source": [
    "**Efficiency of retrieving data from different sources**"
   ]
  },
  {
   "cell_type": "code",
   "execution_count": 4,
   "id": "aeb5b4dc-425b-4b4e-908c-ccddfc35b328",
   "metadata": {},
   "outputs": [
    {
     "name": "stdout",
     "output_type": "stream",
     "text": [
      "Retrieving data for the words: ['tesla', 'benz', 'kucing']\n",
      "\n",
      "Retrieving data for word: 'tesla'...\n",
      "Data for 'tesla' retrieved from Redis: {'sentiment': 'neutral', 'sentiment_score': 0.5, 'POS': 'noun', 'meaning': 'car', 'name': 'tesla'}\n",
      "Data for 'tesla' retrieved from Aura DB: {'part_of_speech': 'noun', 'sentiment': 'neutral', 'sentiment_score': 0.5, 'definition': 'car'}\n",
      "Retrieving data for word: 'benz'...\n",
      "No data found in Redis for 'benz'.\n",
      "No data for 'benz' found in Aura DB.\n",
      "Retrieving data for word: 'kucing'...\n",
      "Data for 'kucing' retrieved from Redis: {'name': 'kucing'}\n",
      "Data for 'kucing' retrieved from Aura DB: {'part_of_speech': None, 'sentiment': None, 'sentiment_score': None, 'definition': None}\n",
      "\n",
      "Comparison of Retrieval Times:\n",
      "\n",
      "--- Word: 'tesla' ---\n",
      "Redis Data: {'sentiment': 'neutral', 'sentiment_score': 0.5, 'POS': 'noun', 'meaning': 'car', 'name': 'tesla'}\n",
      "Aura DB Data: {'part_of_speech': 'noun', 'sentiment': 'neutral', 'sentiment_score': 0.5, 'definition': 'car'}\n",
      "\n",
      "--- Word: 'benz' ---\n",
      "Redis Data: None\n",
      "Aura DB Data: None\n",
      "\n",
      "--- Word: 'kucing' ---\n",
      "Redis Data: {'name': 'kucing'}\n",
      "Aura DB Data: {'part_of_speech': None, 'sentiment': None, 'sentiment_score': None, 'definition': None}\n",
      "\n",
      "--- Total Retrieval Times ---\n",
      "Redis Total Time: 0.0029 seconds\n",
      "Aura DB Total Time: 1.6418 seconds\n",
      "\n",
      "Redis was faster overall.\n"
     ]
    }
   ],
   "source": [
    "words = [\"tesla\", \"benz\", \"kucing\"]\n",
    "analyzer.compare_retrieval_times(words)"
   ]
  },
  {
   "cell_type": "markdown",
   "id": "3c7cf1fc-320e-4066-bbb1-20f9b4608bc6",
   "metadata": {},
   "source": [
    "**Display the total of keys in Redis**"
   ]
  },
  {
   "cell_type": "code",
   "execution_count": 5,
   "id": "3ad4c554-9128-406b-afbc-d85f45a479a8",
   "metadata": {},
   "outputs": [
    {
     "name": "stdout",
     "output_type": "stream",
     "text": [
      "Total count of keys in Redis: 3761\n"
     ]
    }
   ],
   "source": [
    "prompt_window.count_total_words_in_redis()"
   ]
  },
  {
   "cell_type": "code",
   "execution_count": null,
   "id": "6b532690-fe9c-403b-b3b0-491c5d42e4b2",
   "metadata": {
    "scrolled": true
   },
   "outputs": [
    {
     "name": "stdout",
     "output_type": "stream",
     "text": [
      "\n",
      "--- Lexicon Manager Menu ---\n",
      "1. Create a new word node\n",
      "2. Create nodes with relationship\n",
      "3. Query a word node\n",
      "4. Update a word node\n",
      "5. Delete a word node\n",
      "6. Exit\n"
     ]
    },
    {
     "name": "stdin",
     "output_type": "stream",
     "text": [
      "Enter your choice:  \n"
     ]
    },
    {
     "name": "stdout",
     "output_type": "stream",
     "text": [
      "Invalid choice. Please try again.\n",
      "\n",
      "--- Lexicon Manager Menu ---\n",
      "1. Create a new word node\n",
      "2. Create nodes with relationship\n",
      "3. Query a word node\n",
      "4. Update a word node\n",
      "5. Delete a word node\n",
      "6. Exit\n"
     ]
    }
   ],
   "source": [
    "try:\n",
    "    # Display the interactive menu for CRUD operations\n",
    "    prompt_window.show_menu()\n",
    "\n",
    "finally:\n",
    "    # Close connections when done\n",
    "    manager.close()"
   ]
  },
  {
   "cell_type": "markdown",
   "id": "53e6f51e-3468-4f73-9777-cbb5cfd29bae",
   "metadata": {},
   "source": [
    "**Verify the data node(s) stored in Redis**"
   ]
  },
  {
   "cell_type": "code",
   "execution_count": null,
   "id": "e5205345-c527-4e87-8986-ac9965c98d1e",
   "metadata": {},
   "outputs": [],
   "source": [
    "manager.verify_data_in_redis(\"benz\")"
   ]
  },
  {
   "cell_type": "markdown",
   "id": "d9029d2a-6821-4555-8057-969bee336cde",
   "metadata": {},
   "source": [
    "**Delete all the keys in Redis**"
   ]
  },
  {
   "cell_type": "code",
   "execution_count": null,
   "id": "b3fb9c06-73a8-4ea2-a93f-c289dae68294",
   "metadata": {},
   "outputs": [],
   "source": [
    "manager.delete_all_key_from_redis()"
   ]
  },
  {
   "cell_type": "code",
   "execution_count": null,
   "id": "9fdb8759-9dd6-4728-97e2-71d9bfcc4942",
   "metadata": {},
   "outputs": [],
   "source": []
  },
  {
   "cell_type": "code",
   "execution_count": null,
   "id": "54472f19-c902-4cb5-af46-f737958ac33d",
   "metadata": {},
   "outputs": [],
   "source": []
  }
 ],
 "metadata": {
  "kernelspec": {
   "display_name": "ass-venv",
   "language": "python",
   "name": "ass-venv"
  },
  "language_info": {
   "codemirror_mode": {
    "name": "ipython",
    "version": 3
   },
   "file_extension": ".py",
   "mimetype": "text/x-python",
   "name": "python",
   "nbconvert_exporter": "python",
   "pygments_lexer": "ipython3",
   "version": "3.10.12"
  }
 },
 "nbformat": 4,
 "nbformat_minor": 5
}
